{
 "cells": [
  {
   "cell_type": "markdown",
   "metadata": {},
   "source": [
    "# Network Training"
   ]
  },
  {
   "cell_type": "markdown",
   "metadata": {
    "heading_collapsed": true
   },
   "source": [
    "## Includes"
   ]
  },
  {
   "cell_type": "code",
   "execution_count": null,
   "metadata": {
    "code_folding": [
     0
    ],
    "hidden": true
   },
   "outputs": [],
   "source": [
    "# mass includes\n",
    "import os, sys, warnings\n",
    "import ipdb\n",
    "import math as m\n",
    "import torch as t\n",
    "import torchnet as tnt\n",
    "from tqdm import tqdm_notebook as tqdm\n",
    "\n",
    "# add paths for all sub-folders\n",
    "paths = [root for root, dirs, files in os.walk('.')]\n",
    "for item in paths:\n",
    "    sys.path.append(item)\n",
    "\n",
    "from ipynb.fs.full.config import Config\n",
    "from ipynb.fs.full.module import BasicModule\n",
    "from ipynb.fs.full.monitor import Visualizer\n",
    "from ipynb.fs.full.network import UNet\n",
    "from ipynb.fs.full.dataLoader import sonySet"
   ]
  },
  {
   "cell_type": "markdown",
   "metadata": {
    "heading_collapsed": true
   },
   "source": [
    "## Initialization"
   ]
  },
  {
   "cell_type": "code",
   "execution_count": null,
   "metadata": {
    "code_folding": [
     0
    ],
    "hidden": true
   },
   "outputs": [],
   "source": [
    "# enable debugging\n",
    "%pdb off\n",
    "warnings.filterwarnings('ignore')\n",
    "\n",
    "# choose GPU if available\n",
    "device = t.device('cuda' if t.cuda.is_available() else 'cpu')\n",
    "\n",
    "# define model\n",
    "opt = Config()\n",
    "model = UNet().to(device)\n",
    "\n",
    "# load pre-trained model if necessary\n",
    "if opt.save_root:\n",
    "    model.load(opt.save_root, device=device)\n",
    "\n",
    "# dataloader for training\n",
    "train_dataset = sonySet(opt.data_root, 512, opt.img_size, mode='train')\n",
    "train_loader = t.utils.data.DataLoader(\n",
    "    train_dataset,\n",
    "    batch_size=opt.batch_size,\n",
    "    shuffle=True,\n",
    "    num_workers=opt.num_workers,\n",
    "    pin_memory=True)\n",
    "\n",
    "# # dataloader for validation\n",
    "# val_dataset = sonySet(opt.data_root, 512, opt.img_size, mode='val')\n",
    "# val_loader = t.utils.data.DataLoader(val_dataset)\n",
    "\n",
    "# optimizer\n",
    "criterion = t.nn.SmoothL1Loss()\n",
    "optimizer = t.optim.Adam(model.parameters(), lr=opt.lr)\n",
    "scheduler = t.optim.lr_scheduler.StepLR(\n",
    "    optimizer, step_size=opt.upd_freq, gamma=opt.lr_decay)\n",
    "\n",
    "# visualizer\n",
    "vis = Visualizer()\n",
    "loss_meter = tnt.meter.AverageValueMeter()\n",
    "psnr_meter = tnt.meter.AverageValueMeter()"
   ]
  },
  {
   "cell_type": "markdown",
   "metadata": {},
   "source": [
    "## Training entry"
   ]
  },
  {
   "cell_type": "code",
   "execution_count": null,
   "metadata": {
    "code_folding": [
     0
    ],
    "scrolled": false
   },
   "outputs": [],
   "source": [
    "for epoch in tqdm(range(opt.max_epoch), desc='epoch', total=opt.max_epoch):\n",
    "    # reset meter and update learning rate\n",
    "    loss_meter.reset()\n",
    "    scheduler.step()\n",
    "\n",
    "    for index, (img_batch, gt_batch) in enumerate(train_loader):\n",
    "        # reset gradient\n",
    "        optimizer.zero_grad()\n",
    "\n",
    "        # inference\n",
    "        img_batch = img_batch.to(device)\n",
    "        gt_batch = gt_batch.to(device)\n",
    "        pred_batch = model(img_batch)\n",
    "\n",
    "        # compute loss\n",
    "        loss = criterion(pred_batch, gt_batch)\n",
    "\n",
    "        # backpropagation\n",
    "        loss.backward()\n",
    "        optimizer.step()\n",
    "\n",
    "        # add to meters for logging\n",
    "        loss_meter.add(loss.item())\n",
    "        mse = t.nn.functional.mse_loss(pred_batch, gt_batch)\n",
    "        psnr_meter.add(-10 * m.log10(mse))\n",
    "\n",
    "    # add a new log\n",
    "    img_show = t.cat((pred_batch[0, :, :, :], gt_batch[0, :, :, :]),\n",
    "                     dim=2).unsqueeze(0)\n",
    "    img_show = t.clamp(img_show, 0.0, 1.0)\n",
    "    img_show = t.nn.functional.interpolate(img_show, scale_factor=0.3)\n",
    "    vis.log('epoch: %d, loss: %.3E' % (epoch, loss_meter.value()[0]))\n",
    "    vis.plot('PSNR', psnr_meter.value()[0])\n",
    "    vis.img('pred/gt', img_show.squeeze())\n",
    "\n",
    "    # save model\n",
    "    if (epoch + 1) % opt.save_freq == 0:\n",
    "        model.save()\n",
    "\n",
    "#     # validation\n",
    "#     if (epoch + 1) % opt.val_freq == 0:\n",
    "#         model.eval()\n",
    "#         val_psnr = 0.0\n",
    "#         for index, (img_batch, gt_batch) in enumerate(val_loader):\n",
    "#             # inference\n",
    "#             img_batch = img_batch.to(device)\n",
    "#             gt_batch = gt_batch.to(device)\n",
    "#             pred_batch = model(img_batch)\n",
    "\n",
    "#             # add to meters for logging\n",
    "#             mse = t.nn.functional.mse_loss(pred_batch, gt_batch)\n",
    "#             val_psnr += -10 * m.log10(mse)\n",
    "\n",
    "#         val_psnr /= index\n",
    "#         vis.log('val PSNR: %.3f' % val_psnr)\n",
    "#         model.train()"
   ]
  }
 ],
 "metadata": {
  "kernelspec": {
   "display_name": "Python 3",
   "language": "python",
   "name": "python3"
  },
  "language_info": {
   "codemirror_mode": {
    "name": "ipython",
    "version": 3
   },
   "file_extension": ".py",
   "mimetype": "text/x-python",
   "name": "python",
   "nbconvert_exporter": "python",
   "pygments_lexer": "ipython3",
   "version": "3.5.2"
  },
  "toc": {
   "nav_menu": {},
   "number_sections": true,
   "sideBar": true,
   "skip_h1_title": true,
   "title_cell": "Table of Contents",
   "title_sidebar": "Contents",
   "toc_cell": false,
   "toc_position": {},
   "toc_section_display": true,
   "toc_window_display": false
  },
  "varInspector": {
   "cols": {
    "lenName": 16,
    "lenType": 16,
    "lenVar": 40
   },
   "kernels_config": {
    "python": {
     "delete_cmd_postfix": "",
     "delete_cmd_prefix": "del ",
     "library": "var_list.py",
     "varRefreshCmd": "print(var_dic_list())"
    },
    "r": {
     "delete_cmd_postfix": ") ",
     "delete_cmd_prefix": "rm(",
     "library": "var_list.r",
     "varRefreshCmd": "cat(var_dic_list()) "
    }
   },
   "types_to_exclude": [
    "module",
    "function",
    "builtin_function_or_method",
    "instance",
    "_Feature"
   ],
   "window_display": false
  }
 },
 "nbformat": 4,
 "nbformat_minor": 2
}
