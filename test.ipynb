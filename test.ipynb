{
 "cells": [
  {
   "cell_type": "markdown",
   "metadata": {},
   "source": [
    "# Network Testing"
   ]
  },
  {
   "cell_type": "markdown",
   "metadata": {},
   "source": [
    "## Includes"
   ]
  },
  {
   "cell_type": "code",
   "execution_count": null,
   "metadata": {
    "code_folding": [
     0
    ]
   },
   "outputs": [],
   "source": [
    "# mass includes\n",
    "from os import listdir\n",
    "from os.path import splitext\n",
    "from gc import collect\n",
    "from rawpy import imread\n",
    "from numpy import float32 as np32\n",
    "from torch import float as t32\n",
    "from torch import tensor, no_grad, from_numpy, stack, clamp, load, cat\n",
    "from torch.nn import Module, Sequential\n",
    "from torch.nn import MaxPool2d, Conv2d, LeakyReLU, ConvTranspose2d, PixelShuffle\n",
    "from torchvision.utils import save_image"
   ]
  },
  {
   "cell_type": "markdown",
   "metadata": {},
   "source": [
    "## U-Net"
   ]
  },
  {
   "cell_type": "code",
   "execution_count": null,
   "metadata": {
    "code_folding": [
     0,
     15,
     32
    ]
   },
   "outputs": [],
   "source": [
    "class downBlock(Module):\n",
    "    def __init__(self, in_channels, out_channels):\n",
    "        super(downBlock, self).__init__()\n",
    "\n",
    "        self.features = Sequential(\n",
    "            MaxPool2d(2, 2), Conv2d(in_channels, out_channels, 3, padding=1),\n",
    "            LeakyReLU(0.2, inplace=True),\n",
    "            Conv2d(out_channels, out_channels, 3, padding=1),\n",
    "            LeakyReLU(0.2, inplace=True))\n",
    "\n",
    "    def forward(self, x):\n",
    "\n",
    "        return self.features(x)\n",
    "\n",
    "\n",
    "class upBlock(Module):\n",
    "    def __init__(self, in_channels, out_channels):\n",
    "        super(upBlock, self).__init__()\n",
    "\n",
    "        inter_channels = out_channels * 2\n",
    "        self.features = Sequential(\n",
    "            Conv2d(in_channels, inter_channels, 3, padding=1),\n",
    "            LeakyReLU(0.2, inplace=True),\n",
    "            Conv2d(inter_channels, inter_channels, 3, padding=1),\n",
    "            LeakyReLU(0.2, inplace=True),\n",
    "            ConvTranspose2d(inter_channels, out_channels, 2, stride=2))\n",
    "\n",
    "    def forward(self, x):\n",
    "\n",
    "        return self.features(x)\n",
    "\n",
    "\n",
    "class UNet(Module):\n",
    "    def __init__(self):\n",
    "        super(UNet, self).__init__()\n",
    "        self.model_name = 'UNet'\n",
    "\n",
    "        # head block\n",
    "        self.head = Sequential(\n",
    "            Conv2d(4, 32, 3, padding=1), LeakyReLU(0.2, inplace=True),\n",
    "            Conv2d(32, 32, 3, padding=1), LeakyReLU(0.2, inplace=True))\n",
    "\n",
    "        # block 1-4\n",
    "        self.d1 = downBlock(32, 64)\n",
    "        self.d2 = downBlock(64, 128)\n",
    "        self.d3 = downBlock(128, 256)\n",
    "\n",
    "        # bottom block\n",
    "        self.bottom = Sequential(\n",
    "            MaxPool2d(2, 2), Conv2d(256, 512, 3, padding=1),\n",
    "            LeakyReLU(0.2, inplace=True), Conv2d(512, 512, 3, padding=1),\n",
    "            LeakyReLU(0.2, inplace=True), ConvTranspose2d(\n",
    "                512, 256, 2, stride=2))\n",
    "\n",
    "        # blcok 5-8\n",
    "        self.u1 = upBlock(512, 128)\n",
    "        self.u2 = upBlock(256, 64)\n",
    "        self.u3 = upBlock(128, 32)\n",
    "\n",
    "        # final block\n",
    "        self.final = Sequential(\n",
    "            Conv2d(64, 32, 3, padding=1), LeakyReLU(0.2, inplace=True),\n",
    "            Conv2d(32, 32, 3, padding=1), LeakyReLU(0.2, inplace=True),\n",
    "            Conv2d(32, 12, 1), PixelShuffle(2))\n",
    "\n",
    "    def forward(self, x):\n",
    "        out_head = self.head(x)\n",
    "        out_d1 = self.d1(out_head)\n",
    "        out_d2 = self.d2(out_d1)\n",
    "        out_d3 = self.d3(out_d2)\n",
    "        out_bottom = self.bottom(out_d3)\n",
    "        out_u1 = self.u1(cat([out_d3, out_bottom], dim=1))\n",
    "        del out_bottom, out_d3\n",
    "        collect()\n",
    "        out_u2 = self.u2(cat([out_d2, out_u1], dim=1))\n",
    "        del out_u1, out_d2\n",
    "        collect()\n",
    "        out_u3 = self.u3(cat([out_d1, out_u2], dim=1))\n",
    "        del out_u2, out_d1\n",
    "        collect()\n",
    "        out_final = self.final(cat([out_head, out_u3], dim=1))\n",
    "        del out_u3, out_head\n",
    "        collect()\n",
    "\n",
    "        return out_final"
   ]
  },
  {
   "cell_type": "markdown",
   "metadata": {},
   "source": [
    "## Data pre-processing"
   ]
  },
  {
   "cell_type": "code",
   "execution_count": null,
   "metadata": {
    "code_folding": [
     0
    ]
   },
   "outputs": [],
   "source": [
    "def readRaw(file_path, ratio):\n",
    "    raw_data = imread(file_path)\n",
    "    bk_level = tensor(raw_data.black_level_per_channel, dtype=t32)\n",
    "    raw_data = raw_data.raw_image_visible.astype(np32)\n",
    "    raw_data = from_numpy(raw_data)\n",
    "    hei, wid = raw_data.size()\n",
    "    raw_4d = stack((raw_data[0:hei:2, 0:wid:2], raw_data[0:hei:2, 1:wid:2],\n",
    "                    raw_data[1:hei:2, 1:wid:2], raw_data[1:hei:2, 0:wid:2]),\n",
    "                   dim=2)\n",
    "\n",
    "    # ensure raw_4d to be divisible by 16\n",
    "    while raw_4d.size(0) % 16 != 0:\n",
    "        raw_4d = raw_4d[:-3, :, :]\n",
    "    while raw_4d.size(1) % 16 != 0:\n",
    "        raw_4d = raw_4d[:, :-3, :]\n",
    "\n",
    "    raw_4d = (raw_4d - bk_level) / (16383 - bk_level)\n",
    "    raw_4d = clamp(raw_4d * ratio, 0.0, 1.0)\n",
    "\n",
    "    return raw_4d.permute(2, 0, 1)"
   ]
  },
  {
   "cell_type": "markdown",
   "metadata": {},
   "source": [
    "## Testing"
   ]
  },
  {
   "cell_type": "code",
   "execution_count": null,
   "metadata": {
    "code_folding": [
     0
    ],
    "scrolled": true
   },
   "outputs": [],
   "source": [
    "def main():\n",
    "    # load pre-trained model\n",
    "    model = UNet().to('cpu')\n",
    "    model.load_state_dict(load('./UNet_0212-110222.pth', map_location='cpu'))\n",
    "    model.eval()\n",
    "\n",
    "    # user inputs\n",
    "    ratio = float(input('Specify an amplify ratio (e.g. 300): '))\n",
    "\n",
    "    # load data\n",
    "    file_list = listdir('./')\n",
    "    for file in file_list:\n",
    "        name, ext = splitext(file)\n",
    "        if ext == '.dng' or ext == '.DNG':\n",
    "            # run network\n",
    "            with no_grad():\n",
    "                raw_img = readRaw('./' + file, ratio)\n",
    "                raw_img = raw_img.unsqueeze(0)\n",
    "                out_img = model(raw_img)\n",
    "\n",
    "                # save image\n",
    "                save_image(out_img.squeeze(0), './%s.jpg' % name)\n",
    "\n",
    "\n",
    "if __name__ == '__main__':\n",
    "    main()"
   ]
  }
 ],
 "metadata": {
  "kernelspec": {
   "display_name": "Python 3",
   "language": "python",
   "name": "python3"
  },
  "language_info": {
   "codemirror_mode": {
    "name": "ipython",
    "version": 3
   },
   "file_extension": ".py",
   "mimetype": "text/x-python",
   "name": "python",
   "nbconvert_exporter": "python",
   "pygments_lexer": "ipython3",
   "version": "3.5.2"
  }
 },
 "nbformat": 4,
 "nbformat_minor": 2
}
