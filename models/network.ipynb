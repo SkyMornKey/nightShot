{
 "cells": [
  {
   "cell_type": "markdown",
   "metadata": {},
   "source": [
    "# User Defined Network"
   ]
  },
  {
   "cell_type": "markdown",
   "metadata": {
    "heading_collapsed": true
   },
   "source": [
    "## Includes"
   ]
  },
  {
   "cell_type": "code",
   "execution_count": null,
   "metadata": {
    "code_folding": [
     0
    ],
    "hidden": true
   },
   "outputs": [],
   "source": [
    "# mass includes\n",
    "import math as m\n",
    "import torch as t\n",
    "from ipynb.fs.full.module import BasicModule"
   ]
  },
  {
   "cell_type": "markdown",
   "metadata": {},
   "source": [
    " ## Modified U-Net"
   ]
  },
  {
   "cell_type": "code",
   "execution_count": null,
   "metadata": {
    "code_folding": [
     0,
     16,
     33
    ]
   },
   "outputs": [],
   "source": [
    "class downBlock(BasicModule):\n",
    "    def __init__(self, in_channels, out_channels):\n",
    "        super(downBlock, self).__init__()\n",
    "\n",
    "        self.features = t.nn.Sequential(\n",
    "            t.nn.MaxPool2d(2, 2),\n",
    "            t.nn.Conv2d(in_channels, out_channels, 3, padding=1),\n",
    "            t.nn.LeakyReLU(0.2, inplace=True),\n",
    "            t.nn.Conv2d(out_channels, out_channels, 3, padding=1),\n",
    "            t.nn.LeakyReLU(0.2, inplace=True))\n",
    "\n",
    "    def forward(self, x):\n",
    "\n",
    "        return self.features(x)\n",
    "\n",
    "\n",
    "class upBlock(BasicModule):\n",
    "    def __init__(self, in_channels, out_channels):\n",
    "        super(upBlock, self).__init__()\n",
    "\n",
    "        inter_channels = out_channels * 2\n",
    "        self.features = t.nn.Sequential(\n",
    "            t.nn.Conv2d(in_channels, inter_channels, 3, padding=1),\n",
    "            t.nn.LeakyReLU(0.2, inplace=True),\n",
    "            t.nn.Conv2d(inter_channels, inter_channels, 3, padding=1),\n",
    "            t.nn.LeakyReLU(0.2, inplace=True),\n",
    "            t.nn.ConvTranspose2d(inter_channels, out_channels, 2, stride=2))\n",
    "\n",
    "    def forward(self, x):\n",
    "\n",
    "        return self.features(x)\n",
    "\n",
    "\n",
    "class UNet(BasicModule):\n",
    "    def __init__(self):\n",
    "        super(UNet, self).__init__()\n",
    "        self.model_name = 'UNet'\n",
    "\n",
    "        # head block\n",
    "        self.head = t.nn.Sequential(\n",
    "            t.nn.Conv2d(4, 32, 3, padding=1), t.nn.LeakyReLU(\n",
    "                0.2, inplace=True), t.nn.Conv2d(32, 32, 3, padding=1),\n",
    "            t.nn.LeakyReLU(0.2, inplace=True))\n",
    "\n",
    "        # block 1-4\n",
    "        self.d1 = downBlock(32, 64)\n",
    "        self.d2 = downBlock(64, 128)\n",
    "        self.d3 = downBlock(128, 256)\n",
    "\n",
    "        # bottom block\n",
    "        self.bottom = t.nn.Sequential(\n",
    "            t.nn.MaxPool2d(2, 2), t.nn.Conv2d(256, 512, 3, padding=1),\n",
    "            t.nn.LeakyReLU(0.2, inplace=True),\n",
    "            t.nn.Conv2d(512, 512, 3, padding=1),\n",
    "            t.nn.LeakyReLU(0.2, inplace=True),\n",
    "            t.nn.ConvTranspose2d(512, 256, 2, stride=2))\n",
    "\n",
    "        # blcok 5-8\n",
    "        self.u1 = upBlock(512, 128)\n",
    "        self.u2 = upBlock(256, 64)\n",
    "        self.u3 = upBlock(128, 32)\n",
    "\n",
    "        # final block\n",
    "        self.final = t.nn.Sequential(\n",
    "            t.nn.Conv2d(64, 32, 3, padding=1), t.nn.LeakyReLU(\n",
    "                0.2, inplace=True), t.nn.Conv2d(32, 32, 3, padding=1),\n",
    "            t.nn.LeakyReLU(0.2, inplace=True), t.nn.Conv2d(32, 12, 1),\n",
    "            t.nn.PixelShuffle(2))\n",
    "\n",
    "        # initialization\n",
    "        self.initLayers()\n",
    "\n",
    "    def forward(self, x):\n",
    "        out_head = self.head(x)\n",
    "        out_d1 = self.d1(out_head)\n",
    "        out_d2 = self.d2(out_d1)\n",
    "        out_d3 = self.d3(out_d2)\n",
    "        out_bottom = self.bottom(out_d3)\n",
    "        out_u1 = self.u1(t.cat([out_d3, out_bottom], dim=1))\n",
    "        out_u2 = self.u2(t.cat([out_d2, out_u1], dim=1))\n",
    "        out_u3 = self.u3(t.cat([out_d1, out_u2], dim=1))\n",
    "        out_final = self.final(t.cat([out_head, out_u3], dim=1))\n",
    "\n",
    "        return out_final\n",
    "\n",
    "    def initLayers(self):\n",
    "        for module in self.modules():\n",
    "            if isinstance(module, t.nn.Conv2d):\n",
    "                fan = module.kernel_size[0] * module.kernel_size[\n",
    "                    1] * module.out_channels\n",
    "                module.weight.data.normal_(0.0, m.sqrt(2. / fan))\n",
    "                module.bias.data.zero_()\n",
    "            elif isinstance(module, t.nn.ConvTranspose2d):\n",
    "                fan = module.kernel_size[0] * module.kernel_size[\n",
    "                    1] * module.out_channels\n",
    "                module.weight.data.normal_(0.0, m.sqrt(2. / fan))\n",
    "                module.bias.data.zero_()"
   ]
  }
 ],
 "metadata": {
  "kernelspec": {
   "display_name": "Python 3",
   "language": "python",
   "name": "python3"
  },
  "language_info": {
   "codemirror_mode": {
    "name": "ipython",
    "version": 3
   },
   "file_extension": ".py",
   "mimetype": "text/x-python",
   "name": "python",
   "nbconvert_exporter": "python",
   "pygments_lexer": "ipython3",
   "version": "3.5.2"
  }
 },
 "nbformat": 4,
 "nbformat_minor": 2
}
