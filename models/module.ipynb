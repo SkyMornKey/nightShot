{
 "cells": [
  {
   "cell_type": "markdown",
   "metadata": {},
   "source": [
    "# Load & Save Models"
   ]
  },
  {
   "cell_type": "markdown",
   "metadata": {
    "heading_collapsed": true
   },
   "source": [
    "## Includes"
   ]
  },
  {
   "cell_type": "code",
   "execution_count": null,
   "metadata": {
    "code_folding": [
     0
    ],
    "hidden": true
   },
   "outputs": [],
   "source": [
    "# mass includes\n",
    "import os\n",
    "import time\n",
    "import torch as t"
   ]
  },
  {
   "cell_type": "markdown",
   "metadata": {
    "heading_collapsed": true
   },
   "source": [
    "## Basic load & save methods"
   ]
  },
  {
   "cell_type": "code",
   "execution_count": null,
   "metadata": {
    "code_folding": [
     2,
     6,
     21
    ],
    "hidden": true
   },
   "outputs": [],
   "source": [
    "# load & save\n",
    "class BasicModule(t.nn.Module):\n",
    "    def __init__(self):\n",
    "        super(BasicModule, self).__init__()\n",
    "        self.model_name = str(type(self))\n",
    "\n",
    "    def load(self, root, device=None):\n",
    "        save_file = [\n",
    "            file for file in os.listdir(root)\n",
    "            if file.startswith(self.model_name)\n",
    "        ]\n",
    "        edit_time = [\n",
    "            int(file.split('_')[-1].split('.')[-2].replace('-', ''))\n",
    "            for file in save_file\n",
    "        ]\n",
    "        latest_index = edit_time.index(max(edit_time))\n",
    "        file_path = os.path.join(root, save_file[latest_index])\n",
    "        state_dict = t.load(file_path, map_location=device)\n",
    "        self.load_state_dict(t.load(file_path, map_location=device))\n",
    "        print('Loaded: %s' % file_path)\n",
    "\n",
    "    def save(self):\n",
    "        prefix = './saves/' + self.model_name + '_'\n",
    "        file_name = time.strftime(prefix + '%m%d-%H%M%S.pth')\n",
    "        t.save(self.state_dict(), file_name)\n",
    "        print('Saved: %s' % file_name)"
   ]
  }
 ],
 "metadata": {
  "kernelspec": {
   "display_name": "Python 3",
   "language": "python",
   "name": "python3"
  },
  "language_info": {
   "codemirror_mode": {
    "name": "ipython",
    "version": 3
   },
   "file_extension": ".py",
   "mimetype": "text/x-python",
   "name": "python",
   "nbconvert_exporter": "python",
   "pygments_lexer": "ipython3",
   "version": "3.5.2"
  },
  "toc": {
   "nav_menu": {},
   "number_sections": true,
   "sideBar": true,
   "skip_h1_title": true,
   "title_cell": "Table of Contents",
   "title_sidebar": "Contents",
   "toc_cell": false,
   "toc_position": {},
   "toc_section_display": true,
   "toc_window_display": false
  },
  "varInspector": {
   "cols": {
    "lenName": 16,
    "lenType": 16,
    "lenVar": 40
   },
   "kernels_config": {
    "python": {
     "delete_cmd_postfix": "",
     "delete_cmd_prefix": "del ",
     "library": "var_list.py",
     "varRefreshCmd": "print(var_dic_list())"
    },
    "r": {
     "delete_cmd_postfix": ") ",
     "delete_cmd_prefix": "rm(",
     "library": "var_list.r",
     "varRefreshCmd": "cat(var_dic_list()) "
    }
   },
   "types_to_exclude": [
    "module",
    "function",
    "builtin_function_or_method",
    "instance",
    "_Feature"
   ],
   "window_display": false
  }
 },
 "nbformat": 4,
 "nbformat_minor": 2
}
